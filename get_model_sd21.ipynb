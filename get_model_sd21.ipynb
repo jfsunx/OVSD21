{
 "cells": [
  {
   "cell_type": "markdown",
   "id": "11ed575a-b84a-4306-a09c-1d042c596aff",
   "metadata": {},
   "source": [
    "## Prerequisites\n",
    "install required packages"
   ]
  },
  {
   "cell_type": "code",
   "execution_count": 1,
   "id": "429c97c7-a9f0-481f-bab9-f9fe62d191ca",
   "metadata": {},
   "outputs": [
    {
     "name": "stdout",
     "output_type": "stream",
     "text": [
      "\n",
      "\u001B[1m[\u001B[0m\u001B[34;49mnotice\u001B[0m\u001B[1;39;49m]\u001B[0m\u001B[39;49m A new release of pip available: \u001B[0m\u001B[31;49m22.3.1\u001B[0m\u001B[39;49m -> \u001B[0m\u001B[32;49m23.0.1\u001B[0m\n",
      "\u001B[1m[\u001B[0m\u001B[34;49mnotice\u001B[0m\u001B[1;39;49m]\u001B[0m\u001B[39;49m To update, run: \u001B[0m\u001B[32;49mpip install --upgrade pip\u001B[0m\n"
     ]
    }
   ],
   "source": [
    "!pip install -q \"diffusers>=0.14.0\" openvino-dev \"transformers >= 4.25.1\""
   ]
  },
  {
   "cell_type": "markdown",
   "id": "0c1e8c0b-8e2b-4b39-86a7-9ee12fad7e12",
   "metadata": {
    "tags": []
   },
   "source": [
    "## Stable Diffusion v2 for Text-to-Image Generation\n",
    "\n",
    "To start, let's look on Text-to-Image process for Stable Diffusion v2. We will use [stabilitai/stable-diffusion-2-1](https://huggingface.co/stabilityai/stable-diffusion-2-1) model for these purposes. The main difference from Stable Diffusion v2 and Stable Diffusion v2.1 is usage of more data, more training, and less restrictive filtering of the dataset, that gives promising results for selecting wide range of input text prompts. More details about model can be found in [Stability AI blog post](https://stability.ai/blog/stablediffusion2-1-release7-dec-2022) and original model [repository](https://github.com/Stability-AI/stablediffusion).\n",
    "\n",
    "### Stable Diffusion in Diffusers library\n",
    "To work with Stable Diffusion v2, we will use Hugging Face [Diffusers](https://github.com/huggingface/diffusers) library. To experiment with Stable Diffusion models, Diffusers exposes the [StableDiffusionPipeline](https://huggingface.co/docs/diffusers/using-diffusers/conditional_image_generation) similar to the [other Diffusers pipelines](https://huggingface.co/docs/diffusers/api/pipelines/overview).  The code below demonstrates how to create `StableDiffusionPipeline` using `stable-diffusion-2-1`:"
   ]
  },
  {
   "cell_type": "code",
   "execution_count": 2,
   "id": "94fb75e6-e08f-4082-980e-71b43f87addb",
   "metadata": {},
   "outputs": [
    {
     "data": {
      "application/vnd.jupyter.widget-view+json": {
       "model_id": "d44de6d3e7854fcdba5a9712922bdf68",
       "version_major": 2,
       "version_minor": 0
      },
      "text/plain": [
       "Fetching 13 files:   0%|          | 0/13 [00:00<?, ?it/s]"
      ]
     },
     "metadata": {},
     "output_type": "display_data"
    },
    {
     "name": "stderr",
     "output_type": "stream",
     "text": [
      "/home/ea/work/transformers/src/transformers/models/clip/feature_extraction_clip.py:28: FutureWarning: The class CLIPFeatureExtractor is deprecated and will be removed in version 5 of Transformers. Please use CLIPImageProcessor instead.\n",
      "  warnings.warn(\n"
     ]
    }
   ],
   "source": [
    "from diffusers import StableDiffusionPipeline\n",
    "\n",
    "pipe = StableDiffusionPipeline.from_pretrained(\"stabilityai/stable-diffusion-2-1-base\").to(\"cpu\")\n",
    "\n",
    "# for reducing memory consumption get all components from pipeline independently\n",
    "text_encoder = pipe.text_encoder\n",
    "text_encoder.eval()\n",
    "unet = pipe.unet\n",
    "unet.eval()\n",
    "vae = pipe.vae\n",
    "vae.eval()\n",
    "\n",
    "conf = pipe.scheduler.config\n",
    "\n",
    "del pipe"
   ]
  },
  {
   "cell_type": "markdown",
   "id": "089a3798-5d93-4862-ad8e-efe1c80fe5c1",
   "metadata": {},
   "source": [
    "### Convert models to OpenVINO Intermediate representation (IR) format\n",
    "\n",
    "OpenVINO supports PyTorch through export to the ONNX format. We will use the `torch.onnx.export` function to obtain the ONNX model, \n",
    "we can learn more in the [PyTorch documentation](https://pytorch.org/docs/stable/onnx.html). We need to provide a model object, input data for model tracing, and a path for saving the model. Optionally, we can provide a target ONNX opset for conversion and other parameters specified in the documentation (for example, input and output names or dynamic shapes).\n",
    "\n",
    "While ONNX models are directly supported by OpenVINO™ runtime, it can be useful to convert them to IR format to take the advantage of advanced OpenVINO optimization tools and features. We will use OpenVINO [Model Optimizer](https://docs.openvino.ai/2023.0/openvino_docs_MO_DG_Deep_Learning_Model_Optimizer_DevGuide.html) to convert a model to IR format and compression weights to `FP16` format.\n",
    "\n",
    "\n",
    "The pipeline consists of three important parts:\n",
    "* Text Encoder to create condition to generate an image from a text prompt.\n",
    "* U-Net for step-by-step denoising latent image representation.\n",
    "* Autoencoder (VAE) for decoding latent space to image.\n",
    "\n",
    "Let us convert each part:"
   ]
  },
  {
   "cell_type": "markdown",
   "id": "c7767ace-8339-431d-975c-2d349218f9a8",
   "metadata": {},
   "source": [
    "### Text Encoder\n",
    "\n",
    "The text-encoder is responsible for transforming the input prompt, for example, \"a photo of an astronaut riding a horse\" into an embedding space that can be understood by the U-Net. It is usually a simple transformer-based encoder that maps a sequence of input tokens to a sequence of latent text embeddings.\n",
    "\n",
    "The input of the text encoder is tensor `input_ids`, which contains indexes of tokens from text processed by the tokenizer and padded to the maximum length accepted by the model. Model outputs are two tensors: `last_hidden_state` - hidden state from the last MultiHeadAttention layer in the model and `pooler_out` - pooled output for whole model hidden states. We will use `opset_version=14` because the model contains the `triu` operation, supported in ONNX only starting from this opset."
   ]
  },
  {
   "cell_type": "code",
   "execution_count": 3,
   "id": "2749ebee",
   "metadata": {},
   "outputs": [],
   "source": [
    "from pathlib import Path\n",
    "\n",
    "sd2_1_model_dir = Path(\"sd2.1\")\n",
    "sd2_1_model_dir.mkdir(exist_ok=True)"
   ]
  },
  {
   "cell_type": "code",
   "execution_count": 4,
   "id": "b30f952a",
   "metadata": {},
   "outputs": [
    {
     "name": "stderr",
     "output_type": "stream",
     "text": [
      "/tmp/ipykernel_383583/1233802758.py:26: FutureWarning: 'torch.onnx._export' is deprecated in version 1.12.0 and will be removed in version 1.14. Please use `torch.onnx.export` instead.\n",
      "  torch.onnx._export(\n",
      "/home/ea/work/transformers/src/transformers/models/clip/modeling_clip.py:759: TracerWarning: torch.tensor results are registered as constants in the trace. You can safely ignore this warning if you use this function to create tensors out of constant variables that would be the same every time you call this function. In any other case, this might cause the trace to be incorrect.\n",
      "  mask.fill_(torch.tensor(torch.finfo(dtype).min))\n",
      "/home/ea/work/transformers/src/transformers/models/clip/modeling_clip.py:284: TracerWarning: Converting a tensor to a Python boolean might cause the trace to be incorrect. We can't record the data flow of Python values, so this value will be treated as a constant in the future. This means that the trace might not generalize to other inputs!\n",
      "  if attn_weights.size() != (bsz * self.num_heads, tgt_len, src_len):\n",
      "/home/ea/work/transformers/src/transformers/models/clip/modeling_clip.py:292: TracerWarning: Converting a tensor to a Python boolean might cause the trace to be incorrect. We can't record the data flow of Python values, so this value will be treated as a constant in the future. This means that the trace might not generalize to other inputs!\n",
      "  if causal_attention_mask.size() != (bsz, 1, tgt_len, src_len):\n",
      "/home/ea/work/transformers/src/transformers/models/clip/modeling_clip.py:324: TracerWarning: Converting a tensor to a Python boolean might cause the trace to be incorrect. We can't record the data flow of Python values, so this value will be treated as a constant in the future. This means that the trace might not generalize to other inputs!\n",
      "  if attn_output.size() != (bsz * self.num_heads, tgt_len, self.head_dim):\n",
      "/home/ea/work/notebooks_env/lib/python3.8/site-packages/torch/onnx/symbolic_helper.py:710: UserWarning: Type cannot be inferred, which might cause exported graph to produce incorrect results.\n",
      "  warnings.warn(\n",
      "/home/ea/work/notebooks_env/lib/python3.8/site-packages/torch/onnx/symbolic_opset9.py:5408: UserWarning: Exporting aten::index operator of advanced indexing in opset 14 is achieved by combination of multiple ONNX operators, including Reshape, Transpose, Concat, and Gather. If indices include negative values, the exported graph will produce incorrect results.\n",
      "  warnings.warn(\n"
     ]
    },
    {
     "name": "stdout",
     "output_type": "stream",
     "text": [
      "Text Encoder successfully converted to ONNX\n",
      "Warning: One or more of the values of the Constant can't fit in the float16 data type. Those values were casted to the nearest limit value, the model can produce incorrect results.\n",
      "[ INFO ] The model was converted to IR v11, the latest model format that corresponds to the source DL framework input/output format. While IR v11 is backwards compatible with OpenVINO Inference Engine API v1.0, please use API v2.0 (as of 2022.1) to take advantage of the latest improvements in IR v11.\n",
      "Find more information about API v2.0 and IR v11 at https://docs.openvino.ai/2023.0/openvino_2_0_transition_guide.html\n",
      "[ SUCCESS ] Generated IR version 11 model.\n",
      "[ SUCCESS ] XML file: /home/ea/work/openvino_notebooks/notebooks/236-stable-diffusion-v2/sd2.1/text_encoder.xml\n",
      "[ SUCCESS ] BIN file: /home/ea/work/openvino_notebooks/notebooks/236-stable-diffusion-v2/sd2.1/text_encoder.bin\n",
      "Text Encoder successfully converted to IR\n"
     ]
    }
   ],
   "source": [
    "import gc\n",
    "import torch\n",
    "\n",
    "TEXT_ENCODER_ONNX_PATH = sd2_1_model_dir / 'text_encoder.onnx'\n",
    "TEXT_ENCODER_OV_PATH = TEXT_ENCODER_ONNX_PATH.with_suffix('.xml')\n",
    "\n",
    "\n",
    "def convert_encoder_onnx(text_encoder: torch.nn.Module, onnx_path:Path):\n",
    "    \"\"\"\n",
    "    Convert Text Encoder model to ONNX. \n",
    "    Function accepts pipeline, prepares example inputs for ONNX conversion via torch.export, \n",
    "    Parameters: \n",
    "        text_encoder (torch.nn.Module): text encoder PyTorch model\n",
    "        onnx_path (Path): File for storing onnx model\n",
    "    Returns:\n",
    "        None\n",
    "    \"\"\"\n",
    "    if not onnx_path.exists():\n",
    "        input_ids = torch.ones((1, 77), dtype=torch.long)\n",
    "        # switch model to inference mode\n",
    "        text_encoder.eval()\n",
    "\n",
    "        # disable gradients calculation for reducing memory consumption\n",
    "        with torch.no_grad():\n",
    "            # export model to ONNX format\n",
    "            torch.onnx._export(\n",
    "                text_encoder,  # model instance\n",
    "                input_ids,  # inputs for model tracing\n",
    "                onnx_path,  # output file for saving result\n",
    "                input_names=['tokens'],  # model input name for onnx representation\n",
    "                output_names=['last_hidden_state', 'pooler_out'],  # model output names for onnx representation\n",
    "                opset_version=14,  # onnx opset version for export,\n",
    "                onnx_shape_inference=False\n",
    "            )\n",
    "        print('Text Encoder successfully converted to ONNX')\n",
    "\n",
    "\n",
    "if not TEXT_ENCODER_OV_PATH.exists():\n",
    "    convert_encoder_onnx(text_encoder, TEXT_ENCODER_ONNX_PATH)\n",
    "    !mo --input_model $TEXT_ENCODER_ONNX_PATH --compress_to_fp16 --output_dir $sd2_1_model_dir\n",
    "    print('Text Encoder successfully converted to IR')\n",
    "else:\n",
    "    print(f\"Text encoder will be loaded from {TEXT_ENCODER_OV_PATH}\")\n",
    "\n",
    "del text_encoder\n",
    "gc.collect();"
   ]
  },
  {
   "cell_type": "markdown",
   "id": "8f432a18-6516-4563-8b49-d99a263ade2c",
   "metadata": {},
   "source": [
    "### U-Net\n",
    "\n",
    "U-Net model gradually denoises latent image representation guided by text encoder hidden state.\n",
    "\n",
    "U-Net model has three inputs:\n",
    "* `sample` - latent image sample from previous step. Generation process has not been started yet, so you will use random noise.\n",
    "* `timestep` - current scheduler step.\n",
    "* `encoder_hidden_state` - hidden state of text encoder.\n",
    "\n",
    "Model predicts the `sample` state for the next step.\n",
    "\n",
    "Generally, U-Net model conversion process remain the same like in Stable Diffusion v1, expect small changes in input sample size.  Our model was pretrained to generate images with resolution 768x768, initial latent sample size for this case is 96x96. Besides that, for different use cases like inpainting and depth to image generation model also can accept additional image information: depth map or mask as channel-wise concatenation with initial latent sample. For convering U-Net model for such use cases required to modify number of input channels."
   ]
  },
  {
   "cell_type": "code",
   "execution_count": 5,
   "id": "4512fb82",
   "metadata": {},
   "outputs": [
    {
     "name": "stderr",
     "output_type": "stream",
     "text": [
      "/tmp/ipykernel_383583/4211352295.py:32: FutureWarning: 'torch.onnx._export' is deprecated in version 1.12.0 and will be removed in version 1.14. Please use `torch.onnx.export` instead.\n",
      "  torch.onnx._export(\n",
      "/home/ea/work/diffusers/src/diffusers/models/unet_2d_condition.py:526: TracerWarning: Converting a tensor to a Python boolean might cause the trace to be incorrect. We can't record the data flow of Python values, so this value will be treated as a constant in the future. This means that the trace might not generalize to other inputs!\n",
      "  if any(s % default_overall_up_factor != 0 for s in sample.shape[-2:]):\n",
      "/home/ea/work/diffusers/src/diffusers/models/resnet.py:185: TracerWarning: Converting a tensor to a Python boolean might cause the trace to be incorrect. We can't record the data flow of Python values, so this value will be treated as a constant in the future. This means that the trace might not generalize to other inputs!\n",
      "  assert hidden_states.shape[1] == self.channels\n",
      "/home/ea/work/diffusers/src/diffusers/models/resnet.py:190: TracerWarning: Converting a tensor to a Python boolean might cause the trace to be incorrect. We can't record the data flow of Python values, so this value will be treated as a constant in the future. This means that the trace might not generalize to other inputs!\n",
      "  assert hidden_states.shape[1] == self.channels\n",
      "/home/ea/work/diffusers/src/diffusers/models/resnet.py:112: TracerWarning: Converting a tensor to a Python boolean might cause the trace to be incorrect. We can't record the data flow of Python values, so this value will be treated as a constant in the future. This means that the trace might not generalize to other inputs!\n",
      "  assert hidden_states.shape[1] == self.channels\n",
      "/home/ea/work/diffusers/src/diffusers/models/resnet.py:125: TracerWarning: Converting a tensor to a Python boolean might cause the trace to be incorrect. We can't record the data flow of Python values, so this value will be treated as a constant in the future. This means that the trace might not generalize to other inputs!\n",
      "  if hidden_states.shape[0] >= 64:\n",
      "/home/ea/work/diffusers/src/diffusers/models/unet_2d_condition.py:651: TracerWarning: Converting a tensor to a Python boolean might cause the trace to be incorrect. We can't record the data flow of Python values, so this value will be treated as a constant in the future. This means that the trace might not generalize to other inputs!\n",
      "  if not return_dict:\n"
     ]
    },
    {
     "name": "stdout",
     "output_type": "stream",
     "text": [
      "U-Net successfully converted to ONNX\n",
      "[ INFO ] The model was converted to IR v11, the latest model format that corresponds to the source DL framework input/output format. While IR v11 is backwards compatible with OpenVINO Inference Engine API v1.0, please use API v2.0 (as of 2022.1) to take advantage of the latest improvements in IR v11.\n",
      "Find more information about API v2.0 and IR v11 at https://docs.openvino.ai/2023.0/openvino_2_0_transition_guide.html\n",
      "[ SUCCESS ] Generated IR version 11 model.\n",
      "[ SUCCESS ] XML file: /home/ea/work/openvino_notebooks/notebooks/236-stable-diffusion-v2/sd2.1/unet.xml\n",
      "[ SUCCESS ] BIN file: /home/ea/work/openvino_notebooks/notebooks/236-stable-diffusion-v2/sd2.1/unet.bin\n",
      "U-Net successfully converted to IR\n"
     ]
    }
   ],
   "source": [
    "import numpy as np\n",
    "\n",
    "UNET_ONNX_PATH = sd2_1_model_dir / 'unet/unet.onnx'\n",
    "UNET_OV_PATH = UNET_ONNX_PATH.parents[1] / 'unet.xml'\n",
    "\n",
    "\n",
    "def convert_unet_onnx(unet:torch.nn.Module, onnx_path:Path, num_channels:int = 4, width:int = 64, height:int = 64):\n",
    "    \"\"\"\n",
    "    Convert Unet model to ONNX, then IR format. \n",
    "    Function accepts pipeline, prepares example inputs for ONNX conversion via torch.export, \n",
    "    Parameters: \n",
    "        unet (torch.nn.Module): UNet PyTorch model\n",
    "        onnx_path (Path): File for storing onnx model\n",
    "        num_channels (int, optional, 4): number of input channels\n",
    "        width (int, optional, 64): input width\n",
    "        height (int, optional, 64): input height\n",
    "    Returns:\n",
    "        None\n",
    "    \"\"\"\n",
    "    if not onnx_path.exists():\n",
    "        # prepare inputs\n",
    "        encoder_hidden_state = torch.ones((2, 77, 1024))\n",
    "        latents_shape = (2, num_channels, width, height)\n",
    "        latents = torch.randn(latents_shape)\n",
    "        t = torch.from_numpy(np.array(1, dtype=np.float32))\n",
    "\n",
    "        # model size > 2Gb, it will be represented as onnx with external data files, we will store it in separated directory for avoid a lot of files in current directory\n",
    "        onnx_path.parent.mkdir(exist_ok=True, parents=True)\n",
    "        unet.eval()\n",
    "\n",
    "        with torch.no_grad():\n",
    "            torch.onnx._export(\n",
    "                unet, \n",
    "                (latents, t, encoder_hidden_state), str(onnx_path),\n",
    "                input_names=['latent_model_input', 't', 'encoder_hidden_states'],\n",
    "                output_names=['out_sample'],\n",
    "                onnx_shape_inference=False\n",
    "            )\n",
    "        print('U-Net successfully converted to ONNX')\n",
    "\n",
    "\n",
    "if not UNET_OV_PATH.exists():\n",
    "    convert_unet_onnx(unet, UNET_ONNX_PATH, width=96, height=96)\n",
    "    del unet\n",
    "    gc.collect()\n",
    "    !mo --input_model $UNET_ONNX_PATH --compress_to_fp16 --output_dir $sd2_1_model_dir\n",
    "    print('U-Net successfully converted to IR')\n",
    "else:\n",
    "    del unet\n",
    "    print(f\"U-Net will be loaded from {UNET_OV_PATH}\")\n",
    "gc.collect();"
   ]
  },
  {
   "cell_type": "markdown",
   "id": "0f836536-e279-4259-a956-6cd67e3c400a",
   "metadata": {},
   "source": [
    "### VAE\n",
    "\n",
    "The VAE model has two parts, an encoder and a decoder. The encoder is used to convert the image into a low dimensional latent representation, which will serve as the input to the U-Net model. The decoder, conversely, transforms the latent representation back into an image.\n",
    "\n",
    "During latent diffusion training, the encoder is used to get the latent representations (latents) of the images for the forward diffusion process, which applies more and more noise at each step. During inference, the denoised latents generated by the reverse diffusion process are converted back into images using the VAE decoder. When you run inference for Text-to-Image, there is no initial image as a starting point. You can skip this step and directly generate initial random noise.\n",
    "\n",
    "When running Text-to-Image pipeline, we will see that we **only need the VAE decoder**, but preserve VAE encoder conversion, it will be useful in next chapter of our tutorial. \n",
    "\n",
    "Note: This process will take a few minutes and use significant amount of RAM (recommended at least 32GB)."
   ]
  },
  {
   "cell_type": "code",
   "execution_count": 6,
   "id": "d881d292",
   "metadata": {},
   "outputs": [
    {
     "name": "stderr",
     "output_type": "stream",
     "text": [
      "/home/ea/work/notebooks_env/lib/python3.8/site-packages/torch/onnx/_internal/jit_utils.py:258: UserWarning: Constant folding - Only steps=1 can be constant folded for opset >= 10 onnx::Slice op. Constant folding not applied. (Triggered internally at ../torch/csrc/jit/passes/onnx/constant_fold.cpp:179.)\n",
      "  _C._jit_pass_onnx_node_shape_type_inference(node, params_dict, opset_version)\n",
      "/home/ea/work/notebooks_env/lib/python3.8/site-packages/torch/onnx/utils.py:687: UserWarning: Constant folding - Only steps=1 can be constant folded for opset >= 10 onnx::Slice op. Constant folding not applied. (Triggered internally at ../torch/csrc/jit/passes/onnx/constant_fold.cpp:179.)\n",
      "  _C._jit_pass_onnx_graph_shape_type_inference(\n",
      "/home/ea/work/notebooks_env/lib/python3.8/site-packages/torch/onnx/utils.py:1178: UserWarning: Constant folding - Only steps=1 can be constant folded for opset >= 10 onnx::Slice op. Constant folding not applied. (Triggered internally at ../torch/csrc/jit/passes/onnx/constant_fold.cpp:179.)\n",
      "  _C._jit_pass_onnx_graph_shape_type_inference(\n"
     ]
    },
    {
     "name": "stdout",
     "output_type": "stream",
     "text": [
      "VAE encoder successfully converted to ONNX\n",
      "[ INFO ] The model was converted to IR v11, the latest model format that corresponds to the source DL framework input/output format. While IR v11 is backwards compatible with OpenVINO Inference Engine API v1.0, please use API v2.0 (as of 2022.1) to take advantage of the latest improvements in IR v11.\n",
      "Find more information about API v2.0 and IR v11 at https://docs.openvino.ai/2023.0/openvino_2_0_transition_guide.html\n",
      "[ SUCCESS ] Generated IR version 11 model.\n",
      "[ SUCCESS ] XML file: /home/ea/work/openvino_notebooks/notebooks/236-stable-diffusion-v2/sd2.1/vae_encoder.xml\n",
      "[ SUCCESS ] BIN file: /home/ea/work/openvino_notebooks/notebooks/236-stable-diffusion-v2/sd2.1/vae_encoder.bin\n",
      "VAE encoder successfully converted to IR\n"
     ]
    },
    {
     "name": "stderr",
     "output_type": "stream",
     "text": [
      "/home/ea/work/notebooks_env/lib/python3.8/site-packages/torch/onnx/_internal/jit_utils.py:258: UserWarning: The shape inference of prim::Constant type is missing, so it may result in wrong shape inference for the exported graph. Please consider adding it in symbolic function. (Triggered internally at ../torch/csrc/jit/passes/onnx/shape_type_inference.cpp:1884.)\n",
      "  _C._jit_pass_onnx_node_shape_type_inference(node, params_dict, opset_version)\n",
      "/home/ea/work/notebooks_env/lib/python3.8/site-packages/torch/onnx/utils.py:687: UserWarning: The shape inference of prim::Constant type is missing, so it may result in wrong shape inference for the exported graph. Please consider adding it in symbolic function. (Triggered internally at ../torch/csrc/jit/passes/onnx/shape_type_inference.cpp:1884.)\n",
      "  _C._jit_pass_onnx_graph_shape_type_inference(\n",
      "/home/ea/work/notebooks_env/lib/python3.8/site-packages/torch/onnx/utils.py:1178: UserWarning: The shape inference of prim::Constant type is missing, so it may result in wrong shape inference for the exported graph. Please consider adding it in symbolic function. (Triggered internally at ../torch/csrc/jit/passes/onnx/shape_type_inference.cpp:1884.)\n",
      "  _C._jit_pass_onnx_graph_shape_type_inference(\n"
     ]
    },
    {
     "name": "stdout",
     "output_type": "stream",
     "text": [
      "VAE decoder successfully converted to ONNX\n",
      "[ INFO ] The model was converted to IR v11, the latest model format that corresponds to the source DL framework input/output format. While IR v11 is backwards compatible with OpenVINO Inference Engine API v1.0, please use API v2.0 (as of 2022.1) to take advantage of the latest improvements in IR v11.\n",
      "Find more information about API v2.0 and IR v11 at https://docs.openvino.ai/2023.0/openvino_2_0_transition_guide.html\n",
      "[ SUCCESS ] Generated IR version 11 model.\n",
      "[ SUCCESS ] XML file: /home/ea/work/openvino_notebooks/notebooks/236-stable-diffusion-v2/sd2.1/vae_decoder.xml\n",
      "[ SUCCESS ] BIN file: /home/ea/work/openvino_notebooks/notebooks/236-stable-diffusion-v2/sd2.1/vae_decoder.bin\n",
      "VAE decoder successfully converted to IR\n"
     ]
    }
   ],
   "source": [
    "VAE_ENCODER_ONNX_PATH = sd2_1_model_dir / 'vae_encoder.onnx'\n",
    "VAE_ENCODER_OV_PATH = VAE_ENCODER_ONNX_PATH.with_suffix('.xml')\n",
    "\n",
    "\n",
    "def convert_vae_encoder_onnx(vae: torch.nn.Module, onnx_path: Path, width:int = 512, height:int = 512):\n",
    "    \"\"\"\n",
    "    Convert VAE model to ONNX, then IR format. \n",
    "    Function accepts pipeline, creates wrapper class for export only necessary for inference part, \n",
    "    prepares example inputs for ONNX conversion via torch.export, \n",
    "    Parameters: \n",
    "        vae (torch.nn.Module): VAE PyTorch model\n",
    "        onnx_path (Path): File for storing onnx model\n",
    "        width (int, optional, 512): input width\n",
    "        height (int, optional, 512): input height\n",
    "    Returns:\n",
    "        None\n",
    "    \"\"\"\n",
    "    class VAEEncoderWrapper(torch.nn.Module):\n",
    "        def __init__(self, vae):\n",
    "            super().__init__()\n",
    "            self.vae = vae\n",
    "\n",
    "        def forward(self, image):\n",
    "            h = self.vae.encoder(image)\n",
    "            moments = self.vae.quant_conv(h)\n",
    "            return moments\n",
    "\n",
    "    if not onnx_path.exists():\n",
    "        vae_encoder = VAEEncoderWrapper(vae)\n",
    "        vae_encoder.eval()\n",
    "        image = torch.zeros((1, 3, width, height))\n",
    "        with torch.no_grad():\n",
    "            torch.onnx.export(vae_encoder, image, onnx_path, input_names=[\n",
    "                              'init_image'], output_names=['image_latent'])\n",
    "        print('VAE encoder successfully converted to ONNX')\n",
    "\n",
    "\n",
    "if not VAE_ENCODER_OV_PATH.exists():\n",
    "    convert_vae_encoder_onnx(vae, VAE_ENCODER_ONNX_PATH, 768, 768)\n",
    "    !mo --input_model $VAE_ENCODER_ONNX_PATH --compress_to_fp16 --output_dir $sd2_1_model_dir\n",
    "    print('VAE encoder successfully converted to IR')\n",
    "else:\n",
    "    print(f\"VAE encoder will be loaded from {VAE_ENCODER_OV_PATH}\")\n",
    "\n",
    "VAE_DECODER_ONNX_PATH = sd2_1_model_dir / 'vae_decoder.onnx'\n",
    "VAE_DECODER_OV_PATH = VAE_DECODER_ONNX_PATH.with_suffix('.xml')\n",
    "\n",
    "\n",
    "def convert_vae_decoder_onnx(vae: torch.nn.Module, onnx_path: Path, width:int = 64, height:int = 64):\n",
    "    \"\"\"\n",
    "    Convert VAE model to ONNX, then IR format. \n",
    "    Function accepts pipeline, creates wrapper class for export only necessary for inference part, \n",
    "    prepares example inputs for ONNX conversion via torch.export, \n",
    "    Parameters: \n",
    "        vae: \n",
    "        onnx_path (Path): File for storing onnx model\n",
    "        width (int, optional, 64): input width\n",
    "        height (int, optional, 64): input height\n",
    "    Returns:\n",
    "        None\n",
    "    \"\"\"\n",
    "    class VAEDecoderWrapper(torch.nn.Module):\n",
    "        def __init__(self, vae):\n",
    "            super().__init__()\n",
    "            self.vae = vae\n",
    "\n",
    "        def forward(self, latents):\n",
    "            latents = 1 / 0.18215 * latents \n",
    "            return self.vae.decode(latents)\n",
    "\n",
    "    if not onnx_path.exists():\n",
    "        vae_decoder = VAEDecoderWrapper(vae)\n",
    "        latents = torch.zeros((1, 4, width, height))\n",
    "\n",
    "        vae_decoder.eval()\n",
    "        with torch.no_grad():\n",
    "            torch.onnx.export(vae_decoder, latents, onnx_path, input_names=[\n",
    "                              'latents'], output_names=['sample'])\n",
    "        print('VAE decoder successfully converted to ONNX')\n",
    "\n",
    "\n",
    "if not VAE_DECODER_OV_PATH.exists():\n",
    "    convert_vae_decoder_onnx(vae, VAE_DECODER_ONNX_PATH, 96, 96)\n",
    "    !mo --input_model $VAE_DECODER_ONNX_PATH --compress_to_fp16 --output_dir $sd2_1_model_dir\n",
    "    print('VAE decoder successfully converted to IR')\n",
    "else:\n",
    "    print(f\"VAE decoder will be loaded from {VAE_DECODER_OV_PATH}\")\n",
    "\n",
    "del vae\n",
    "gc.collect();"
   ]
  }
 ],
 "metadata": {
  "kernelspec": {
   "display_name": "Python 3 (ipykernel)",
   "language": "python",
   "name": "python3"
  },
  "language_info": {
   "codemirror_mode": {
    "name": "ipython",
    "version": 3
   },
   "file_extension": ".py",
   "mimetype": "text/x-python",
   "name": "python",
   "nbconvert_exporter": "python",
   "pygments_lexer": "ipython3",
   "version": "3.8.10"
  },
  "vscode": {
   "interpreter": {
    "hash": "cec18e25feb9469b5ff1085a8097bdcd86db6a4ac301d6aeff87d0f3e7ce4ca5"
   }
  }
 },
 "nbformat": 4,
 "nbformat_minor": 5
}
